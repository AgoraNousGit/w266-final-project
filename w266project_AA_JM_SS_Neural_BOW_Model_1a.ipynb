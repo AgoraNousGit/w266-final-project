{
 "cells": [
  {
   "cell_type": "markdown",
   "metadata": {},
   "source": [
    "# LIAR DETECTION GROUP PROJECT - Neural BOW Models  \n"
   ]
  },
  {
   "cell_type": "markdown",
   "metadata": {},
   "source": [
    "### CONTENTS  \n",
    "\n",
    "Imports  \n",
    "Load ISOT data from appropriate pickle file  \n",
    "Load ISOT vocabulary from pickle file  (note: vocab contains both \"title\" and \"text\" words)  \n",
    "Train/Dev/Test split ISOT data  \n",
    "Load LIAR data (for evaluating models)  \n",
    "\n",
    "#### Neural BOW Models:\n",
    "- Model_1: Initial run replicating settings from Assignment 2, but with ISOT \"title\" data. \n",
    "- Model_1a: Same as Model_1 except don't sum the xs_'s.  NOT YET IMPLEMENTED...\n",
    "\n",
    "\n",
    "\n",
    "\n",
    "    "
   ]
  },
  {
   "cell_type": "code",
   "execution_count": null,
   "metadata": {},
   "outputs": [],
   "source": [
    "from __future__ import absolute_import\n",
    "from __future__ import print_function\n",
    "from __future__ import division\n",
    "\n",
    "import json, os, re, shutil, sys, time\n",
    "from importlib import reload\n",
    "import os, sys, re, json, time, datetime, shutil\n",
    "import itertools, collections\n",
    "from functools import reduce\n",
    "import unittest\n",
    "from IPython.display import display, HTML\n",
    "from sklearn.utils import shuffle\n",
    "# NLTK for NLP utils and corpora\n",
    "import nltk\n",
    "\n",
    "# NumPy and TensorFlow\n",
    "import numpy as np\n",
    "import pandas as pd\n",
    "import tensorflow as tf\n",
    "#assert(tf.__version__.startswith(\"1.8\"))\n",
    "\n",
    "import pickle\n",
    "import dill\n",
    "# Helper libraries\n",
    "from w266_common import utils, vocabulary, tf_embed_viz\n",
    "from w266_common import patched_numpy_io\n",
    "import timeit  #For timing\n"
   ]
  },
  {
   "cell_type": "code",
   "execution_count": null,
   "metadata": {},
   "outputs": [],
   "source": [
    "# SK-learn libraries for evaluation.\n",
    "from sklearn.metrics import confusion_matrix\n",
    "from sklearn import metrics\n",
    "from sklearn.metrics import classification_report\n",
    "from sklearn.metrics import accuracy_score"
   ]
  },
  {
   "cell_type": "code",
   "execution_count": null,
   "metadata": {},
   "outputs": [],
   "source": [
    "print('TensorFlow version:', tf.VERSION)"
   ]
  },
  {
   "cell_type": "markdown",
   "metadata": {},
   "source": [
    "### Load ISOT data and vocabulary from pickle files  \n",
    "Loading the dataset from the Information security and object technology (ISOT) Research lab at the University of Victoria School of Engineering.\n",
    "\n",
    "The ISOT Fake News Dataset is a compilation of several thousands fake news and truthful articles, obtained from different legitimate news sites and sites flagged as unreliable by politifact.com."
   ]
  },
  {
   "cell_type": "code",
   "execution_count": null,
   "metadata": {},
   "outputs": [],
   "source": [
    "# Read ISOT data from pickle file.\n",
    "all_data = pd.read_pickle('parsed_data/df_alldata2.pkl')  # ISOT data (CMU) tokenized and POS tags added\n",
    "all_data.info(memory_usage='deep', verbose=True)"
   ]
  },
  {
   "cell_type": "code",
   "execution_count": null,
   "metadata": {},
   "outputs": [],
   "source": [
    "all_data.head()"
   ]
  },
  {
   "cell_type": "code",
   "execution_count": null,
   "metadata": {
    "scrolled": true
   },
   "outputs": [],
   "source": [
    "all_data.title[0]"
   ]
  },
  {
   "cell_type": "code",
   "execution_count": null,
   "metadata": {},
   "outputs": [],
   "source": [
    "all_data.title_tokcan[0]"
   ]
  },
  {
   "cell_type": "code",
   "execution_count": null,
   "metadata": {},
   "outputs": [],
   "source": []
  },
  {
   "cell_type": "code",
   "execution_count": null,
   "metadata": {},
   "outputs": [],
   "source": [
    "# Read ISOT vocab from pickle file.\n",
    "\n",
    "vocab = pd.read_pickle('parsed_data/vocab.pkl')  # ISOT data (CMU) tokenized and POS tags added"
   ]
  },
  {
   "cell_type": "code",
   "execution_count": null,
   "metadata": {},
   "outputs": [],
   "source": [
    "print(\"{:,} words\".format(vocab.size))  # Note: this combines words from ISOT \"title\" AND \"text\" fields!\n",
    "print(\"wordset: \",vocab.ordered_words()[:30])\n",
    "print(vocab)"
   ]
  },
  {
   "cell_type": "code",
   "execution_count": null,
   "metadata": {},
   "outputs": [],
   "source": [
    "print('ISOT ALL target=real:', len(all_data.target[all_data.target == '1']))\n",
    "print('ISOT ALL target=fake:', len(all_data.target[all_data.target == '0']))"
   ]
  },
  {
   "cell_type": "markdown",
   "metadata": {},
   "source": [
    "### Train / Dev / Test Split ISOT data"
   ]
  },
  {
   "cell_type": "code",
   "execution_count": null,
   "metadata": {},
   "outputs": [],
   "source": [
    "#train/dev/train split\n",
    "#train_dev_split = 0.8\n",
    "\n",
    "train_fract = 0.70\n",
    "dev_fract = 0.15\n",
    "test_fract = 0.15\n",
    "\n",
    "if (train_fract+dev_fract+test_fract) == 1.0:\n",
    "    print('Split fractions add up to 1.0')\n",
    "else:\n",
    "    print('SPLIT FRACTIONS DO NOT ADD UP TO 1.0; PLEASE TRY AGAIN.............')\n",
    "\n",
    "#train_data = all_data[:int(len(all_data)*train_dev_split)].reset_index(drop=True)\n",
    "#dev_data = all_data[int(len(all_data)*train_dev_split):].reset_index(drop=True)\n",
    "\n",
    "train_set = all_data[ :int(len(all_data)*train_fract)].reset_index(drop=True)\n",
    "dev_set = all_data[int(len(all_data)*(train_fract)) : int(len(all_data)*(train_fract+dev_fract))].reset_index(drop=True)\n",
    "test_set = all_data[int(len(all_data)*(train_fract+dev_fract)) : ].reset_index(drop=True)\n",
    "\n",
    "print('training set: ',train_set.shape)\n",
    "print('dev set: ',dev_set.shape)\n",
    "print('test set: ',test_set.shape)"
   ]
  },
  {
   "cell_type": "code",
   "execution_count": null,
   "metadata": {},
   "outputs": [],
   "source": [
    "train_set.head()"
   ]
  },
  {
   "cell_type": "code",
   "execution_count": null,
   "metadata": {},
   "outputs": [],
   "source": [
    "dev_set.head()"
   ]
  },
  {
   "cell_type": "code",
   "execution_count": null,
   "metadata": {},
   "outputs": [],
   "source": [
    "test_set.head()"
   ]
  },
  {
   "cell_type": "code",
   "execution_count": null,
   "metadata": {},
   "outputs": [],
   "source": []
  },
  {
   "cell_type": "markdown",
   "metadata": {},
   "source": [
    "### Select ISOT features and labels for training model "
   ]
  },
  {
   "cell_type": "code",
   "execution_count": null,
   "metadata": {},
   "outputs": [],
   "source": [
    "train_data, train_labels = train_set.title_tokcan.values, train_set.target.values\n",
    "dev_data, dev_labels = dev_set.title_tokcan.values, dev_set.target.values\n",
    "test_data, test_labels = test_set.title_tokcan.values, test_set.target.values\n",
    "\n",
    "train_labels = train_labels.astype(int)\n",
    "dev_labels = dev_labels.astype(int)\n",
    "test_labels = test_labels.astype(int)\n",
    "\n",
    "#train_data.head()\n",
    "print('train_data shape:', train_data.shape)\n",
    "#print(train_data[0].shape)\n",
    "print(train_data[:1])\n",
    "print('train_labels shape:', train_labels.shape)\n",
    "print(train_labels)\n",
    "print()\n",
    "print('dev_data shape:', dev_data.shape)\n",
    "print(dev_data[:1])\n",
    "print('dev_labels shape:', dev_labels.shape)\n",
    "print(dev_labels)\n",
    "print()\n",
    "print('test_data shape:', test_data.shape)\n",
    "print(test_data[:1])\n",
    "print('test_labels shape:', test_labels.shape)\n",
    "print(test_labels)\n"
   ]
  },
  {
   "cell_type": "code",
   "execution_count": null,
   "metadata": {},
   "outputs": [],
   "source": []
  },
  {
   "cell_type": "code",
   "execution_count": null,
   "metadata": {},
   "outputs": [],
   "source": [
    "# characterize length of documents in train_data\n",
    "\n",
    "lengths = [len(train_data[i]) for i in range(train_data.shape[0])]\n",
    "\n",
    "a = np.array(lengths)\n",
    "p = np.percentile(a, 95) # return 95th percentile\n",
    "print('95th percentile:', p)"
   ]
  },
  {
   "cell_type": "code",
   "execution_count": null,
   "metadata": {},
   "outputs": [],
   "source": [
    "# Bokeh for plotting.\n",
    "import bokeh.plotting as bp\n",
    "from bokeh.models import HoverTool\n",
    "bp.output_notebook()\n",
    "\n",
    "# Helper code for plotting histograms\n",
    "def plot_length_histogram(lengths, x_range=[0,100], bins=40, normed=True):\n",
    "    hist, bin_edges = np.histogram(a=lengths, bins=bins, normed=normed, range=x_range)\n",
    "    bin_centers = (bin_edges[1:] + bin_edges[:-1])/2\n",
    "    bin_widths =  (bin_edges[1:] - bin_edges[:-1])\n",
    "\n",
    "    hover = HoverTool(tooltips=[(\"bucket\", \"@x\"), (\"count\", \"@top\")], mode=\"vline\")\n",
    "    fig = bp.figure(plot_width=800, plot_height=400, tools=[hover])\n",
    "    fig.vbar(x=bin_centers, width=bin_widths, top=hist, hover_fill_color=\"firebrick\")\n",
    "    fig.y_range.start = 0\n",
    "    fig.x_range.start = 0\n",
    "    fig.xaxis.axis_label = \"Example length (number of tokens)\"\n",
    "    fig.yaxis.axis_label = \"Frequency\"\n",
    "    bp.show(fig)"
   ]
  },
  {
   "cell_type": "code",
   "execution_count": null,
   "metadata": {},
   "outputs": [],
   "source": [
    "plot_length_histogram(lengths)"
   ]
  },
  {
   "cell_type": "code",
   "execution_count": null,
   "metadata": {},
   "outputs": [],
   "source": []
  },
  {
   "cell_type": "markdown",
   "metadata": {},
   "source": [
    "### Load LIAR data to evaluate various models below.  "
   ]
  },
  {
   "cell_type": "code",
   "execution_count": null,
   "metadata": {},
   "outputs": [],
   "source": [
    "# DON\"T Read LIAR data from pickle file. ****************\n",
    "#liar_data = pd.read_pickle('parsed_data/df_liardata2.pkl')  # data (CMU) tokenized and POS tags added\n",
    "# Heads up on the df_liardata2.pkl: it looks like during the process, \n",
    "# \"mostly-false\" was used in place of \"barely_true\".  \n",
    "# I believe it means that the \"barely_true\" items were omitted from the pickled file.\n",
    "# ^^^^^^^^^^^\n",
    "\n",
    "\n",
    "#### USE THIS ONE WHEN AVAILABLE!!!!!!!!!!!\n",
    "liar_data = pd.read_pickle('parsed_data/df_liardata2binary.pkl')  # data (CMU) tokenized and POS tags added\n",
    "\n",
    "\n",
    "\n",
    "liar_data.info(memory_usage='deep', verbose=True)"
   ]
  },
  {
   "cell_type": "code",
   "execution_count": null,
   "metadata": {},
   "outputs": [],
   "source": [
    "liar_data.head(10)"
   ]
  },
  {
   "cell_type": "code",
   "execution_count": null,
   "metadata": {},
   "outputs": [],
   "source": [
    "binary_targets = liar_data.binary_target.unique()\n",
    "print(binary_targets)\n",
    "\n",
    "print('\\nbinary_target,  number of examples')\n",
    "for binary_target in binary_targets:\n",
    "    print(binary_target, len(liar_data[liar_data.binary_target==binary_target]))"
   ]
  },
  {
   "cell_type": "code",
   "execution_count": null,
   "metadata": {},
   "outputs": [],
   "source": [
    "liar_data_binary = liar_data[liar_data.binary_target >= 0]  ## discard \"half-true\"!!!!\n",
    "liar_data_binary.head(10)"
   ]
  },
  {
   "cell_type": "code",
   "execution_count": null,
   "metadata": {},
   "outputs": [],
   "source": [
    "liar_data_binary = liar_data_binary.reset_index(drop=True)\n",
    "liar_data_binary.head(10)"
   ]
  },
  {
   "cell_type": "code",
   "execution_count": null,
   "metadata": {},
   "outputs": [],
   "source": [
    "print('LIAR true:', len(liar_data[liar_data.binary_target == 1]))\n",
    "print('LIAR false:', len(liar_data[liar_data.binary_target == 0]))"
   ]
  },
  {
   "cell_type": "code",
   "execution_count": null,
   "metadata": {},
   "outputs": [],
   "source": [
    "liar_title_tokans = liar_data_binary.title_tokcan.values\n",
    "liar_labels = liar_data_binary.binary_target.values\n",
    "\n",
    "print('liar titles:', liar_title_tokans)\n",
    "print('liar labels:', liar_labels)"
   ]
  },
  {
   "cell_type": "code",
   "execution_count": null,
   "metadata": {},
   "outputs": [],
   "source": []
  },
  {
   "cell_type": "code",
   "execution_count": null,
   "metadata": {},
   "outputs": [],
   "source": []
  },
  {
   "cell_type": "markdown",
   "metadata": {},
   "source": [
    "## Neural BOW Model 1: ISOT \"title\" data without GloVe embeddings"
   ]
  },
  {
   "cell_type": "code",
   "execution_count": null,
   "metadata": {},
   "outputs": [],
   "source": []
  },
  {
   "cell_type": "markdown",
   "metadata": {},
   "source": [
    "#### Add in reference functions for viewing convenience"
   ]
  },
  {
   "cell_type": "code",
   "execution_count": null,
   "metadata": {},
   "outputs": [],
   "source": []
  },
  {
   "cell_type": "code",
   "execution_count": null,
   "metadata": {},
   "outputs": [],
   "source": [
    "# May need this info (from utils.py)\n",
    "'''\n",
    "def build_vocab(corpus, V=10000, **kw):\n",
    "    from . import vocabulary\n",
    "    if isinstance(corpus, list):\n",
    "        token_feed = (canonicalize_word(w) for w in corpus)\n",
    "        vocab = vocabulary.Vocabulary(token_feed, size=V, **kw)\n",
    "    else:\n",
    "        token_feed = (canonicalize_word(w) for w in corpus.words())\n",
    "        vocab = vocabulary.Vocabulary(token_feed, size=V, **kw)\n",
    "\n",
    "    print(\"Vocabulary: {:,} types\".format(vocab.size))\n",
    "    return vocab\n",
    "\n",
    "# Window and batch functions\n",
    "def pad_np_array(example_ids, max_len=250, pad_id=0):\n",
    "    \"\"\"Pad a list of lists of ids into a rectangular NumPy array.\n",
    "\n",
    "    Longer sequences will be truncated to max_len ids, while shorter ones will\n",
    "    be padded with pad_id.\n",
    "\n",
    "    Args:\n",
    "        example_ids: list(list(int)), sequence of ids for each example\n",
    "        max_len: maximum sequence length\n",
    "        pad_id: id to pad shorter sequences with\n",
    "\n",
    "    Returns: (x, ns)\n",
    "        x: [num_examples, max_len] NumPy array of integer ids\n",
    "        ns: [num_examples] NumPy array of sequence lengths (<= max_len)\n",
    "    \"\"\"\n",
    "    arr = np.full([len(example_ids), max_len], pad_id, dtype=np.int32)\n",
    "    ns = np.zeros([len(example_ids)], dtype=np.int32)\n",
    "    for i, ids in enumerate(example_ids):\n",
    "        cpy_len = min(len(ids), max_len)\n",
    "        arr[i,:cpy_len] = ids[:cpy_len]\n",
    "        ns[i] = cpy_len\n",
    "    return arr, ns\n",
    "\n",
    "def id_lists_to_sparse_bow(id_lists, vocab_size):\n",
    "    \"\"\"Convert a list-of-lists-of-ids to a sparse bag-of-words matrix.\n",
    "\n",
    "    Args:\n",
    "        id_lists: (list(list(int))) list of lists of word ids\n",
    "        vocab_size: (int) vocab size; must be greater than the largest word id\n",
    "            in id_lists.\n",
    "\n",
    "    Returns:\n",
    "        (scipy.sparse.csr_matrix) where each row is a sparse vector of word\n",
    "        counts for the corresponding example.\n",
    "    \"\"\"\n",
    "    from scipy import sparse\n",
    "    ii = []  # row indices (example ids)\n",
    "    jj = []  # column indices (token ids)\n",
    "    for row_id, ids in enumerate(id_lists):\n",
    "        ii.extend([row_id]*len(ids))\n",
    "        jj.extend(ids)\n",
    "    x = sparse.csr_matrix((np.ones_like(ii), (ii, jj)),\n",
    "                          shape=[len(id_lists), vocab_size])\n",
    "    return x\n",
    "'''"
   ]
  },
  {
   "cell_type": "code",
   "execution_count": null,
   "metadata": {},
   "outputs": [],
   "source": [
    "# These are functions that were in the \"SSTDataset\" class in sst.py from A2\n",
    "'''\n",
    "def get_filtered_split(split='train', df_idxs=None, root_only=False):\n",
    "    if not hasattr(split):\n",
    "        raise ValueError(\"Invalid split name '%s'\" % name)\n",
    "    df = getattr(split)\n",
    "    if df_idxs is not None:\n",
    "        df = df.loc[df_idxs]\n",
    "    #if root_only:          # Should not need in Final Project.\n",
    "        #df = df[df.is_root]\n",
    "    return df\n",
    "\n",
    "def as_padded_array(split='train', max_len=40, pad_id=0,\n",
    "                    root_only=False, df_idxs=None):\n",
    "    \"\"\"Return the dataset as a (padded) NumPy array.\n",
    "    Longer sequences will be truncated to max_len ids, while shorter ones\n",
    "    will be padded with pad_id.\n",
    "    Args:\n",
    "      split: 'train' or 'test'\n",
    "      max_len: maximum sequence length\n",
    "      pad_id: id to pad shorter sequences with\n",
    "      root_only: if true, will only export root phrases\n",
    "      df_idxs: (optional) custom list of indices to export\n",
    "    Returns: (x, ns, y)\n",
    "      x: [num_examples, max_len] NumPy array of integer ids\n",
    "      ns: [num_examples] NumPy array of sequence lengths (<= max_len)\n",
    "      y: [num_examples] NumPy array of target ids\n",
    "    \"\"\"\n",
    "    df = get_filtered_split(split, df_idxs, root_only)\n",
    "    x, ns = utils.pad_np_array(df.ids, max_len=max_len, pad_id=pad_id)\n",
    "    return x, ns, np.array(df.label, dtype=np.int32)\n",
    "\n",
    "def as_sparse_bow(split='train', root_only=False, df_idxs=None):\n",
    "    from scipy import sparse\n",
    "    df = get_filtered_split(split, df_idxs, root_only)\n",
    "    x = utils.id_lists_to_sparse_bow(df['ids'], self.vocab.size)\n",
    "    y = np.array(df.label, dtype=np.int32)\n",
    "    return x, y\n",
    "'''"
   ]
  },
  {
   "cell_type": "code",
   "execution_count": null,
   "metadata": {},
   "outputs": [],
   "source": []
  },
  {
   "cell_type": "markdown",
   "metadata": {},
   "source": [
    "#### Construct train, dev, test data arrays  "
   ]
  },
  {
   "cell_type": "code",
   "execution_count": null,
   "metadata": {},
   "outputs": [],
   "source": [
    "## Training data\n",
    "\n",
    "all_train_ids=[]\n",
    "for i, tokens in enumerate(train_data):  # here, tokens are the words in a single sentence\n",
    "    sent_ids = vocab.words_to_ids(tokens)\n",
    "    all_train_ids.append(sent_ids)\n",
    "print(all_train_ids[:5])\n",
    "\n",
    "max_len = 40   # Retain this setting, since it fits the ISOT \"title\" length distribution quite well.\n",
    "train_x, train_ns = utils.pad_np_array(all_train_ids, max_len=max_len)\n",
    "print()\n",
    "print(train_x[:2])\n",
    "print()\n",
    "print(train_ns[:2])\n",
    "\n",
    "train_y = train_labels\n",
    "print(train_y[:2])"
   ]
  },
  {
   "cell_type": "code",
   "execution_count": null,
   "metadata": {},
   "outputs": [],
   "source": [
    "## Dev data\n",
    "\n",
    "all_dev_ids=[]\n",
    "for i, tokens in enumerate(dev_data):  # here, tokens are the words in a single sentence\n",
    "    sent_ids = vocab.words_to_ids(tokens)\n",
    "    all_dev_ids.append(sent_ids)\n",
    "print(all_dev_ids[:5])\n",
    "\n",
    "max_len = 40   # Retain this setting, since it fits the ISOT \"title\" length distribution quite well.\n",
    "dev_x, dev_ns = utils.pad_np_array(all_dev_ids, max_len=max_len)\n",
    "print()\n",
    "print(dev_x[:2])\n",
    "print()\n",
    "print(dev_ns[:2])\n",
    "\n",
    "dev_y = dev_labels\n",
    "print(dev_y[:2])"
   ]
  },
  {
   "cell_type": "code",
   "execution_count": null,
   "metadata": {},
   "outputs": [],
   "source": [
    "## Test data\n",
    "\n",
    "all_test_ids=[]\n",
    "for i, tokens in enumerate(test_data):  # here, tokens are the words in a single sentence\n",
    "    sent_ids = vocab.words_to_ids(tokens)\n",
    "    all_test_ids.append(sent_ids)\n",
    "print(all_test_ids[:5])\n",
    "\n",
    "max_len = 40   # Retain this setting, since it fits the ISOT \"title\" length distribution quite well.\n",
    "test_x, test_ns = utils.pad_np_array(all_test_ids, max_len=max_len)\n",
    "print()\n",
    "print(test_x[:2])\n",
    "print()\n",
    "print(test_ns[:2])\n",
    "\n",
    "test_y = test_labels\n",
    "print(test_y[:2])"
   ]
  },
  {
   "cell_type": "code",
   "execution_count": null,
   "metadata": {},
   "outputs": [],
   "source": [
    "print(\"Examples:\\n\", train_x[:3])\n",
    "print(\"Original sequence lengths: \", train_ns[:3])\n",
    "print(\"Target labels: \", train_y[:3])\n",
    "print(\"\")\n",
    "print(\"Padded:\\n\", \" \".join(vocab.ids_to_words(train_x[0])))\n",
    "print(\"Un-padded:\\n\", \" \".join(vocab.ids_to_words(train_x[0,:train_ns[0]])))"
   ]
  },
  {
   "cell_type": "code",
   "execution_count": null,
   "metadata": {},
   "outputs": [],
   "source": []
  },
  {
   "cell_type": "markdown",
   "metadata": {},
   "source": [
    "### Use tf.Estimator API along with nbow_models.py "
   ]
  },
  {
   "cell_type": "markdown",
   "metadata": {},
   "source": [
    "#### Things to consider:  \n",
    "- Start w/ 2 epochs (20 was original)       \n",
    "- Consider use of dropouts in fully-connected layers     \n",
    "-  Use embed_dim = 300 rather than 50??  \n",
    "- Try to fix Tensorboard display issue (http://localhost:6006 not working.  \"This site can't be reached; ERR_CONNECTION_REFUSED)  \n",
    "- xx  \n",
    "...  \n"
   ]
  },
  {
   "cell_type": "code",
   "execution_count": null,
   "metadata": {},
   "outputs": [],
   "source": [
    "## Setup model framework\n",
    "\n",
    "import nbow_model_1; reload(nbow_model_1)\n",
    "\n",
    "# Specify model hyperparameters as used by model_fn\n",
    "model_params = dict(V=vocab.size, embed_dim=50, hidden_dims=[25], num_classes=2,\n",
    "                    encoder_type='bow',\n",
    "                    lr=0.1, optimizer='adagrad', beta=0.01)  # can set optimizer to 'adagrad' or 'adam', which is slower here\n",
    "\n",
    "checkpoint_dir = \"/tmp/tf_nbow_\" + datetime.datetime.now().strftime(\"%Y%m%d-%H%M\")\n",
    "if os.path.isdir(checkpoint_dir):\n",
    "    shutil.rmtree(checkpoint_dir)\n",
    "# Write vocabulary to file, so TensorBoard can label embeddings.\n",
    "# creates checkpoint_dir/projector_config.pbtxt and checkpoint_dir/metadata.tsv\n",
    "#ds.vocab.write_projector_config(checkpoint_dir, \"Encoder/Embedding_Layer/W_embed\")\n",
    "vocab.write_projector_config(checkpoint_dir, \"Encoder/Embedding_Layer/W_embed\")\n",
    "\n",
    "model = tf.estimator.Estimator(model_fn=nbow_model_1.classifier_model_fn, \n",
    "                               params=model_params,\n",
    "                               model_dir=checkpoint_dir)\n",
    "print(\"\")\n",
    "print(\"To view training (once it starts), run:\\n\")\n",
    "print(\"    tensorboard --logdir='{:s}' --port 6006\".format(checkpoint_dir))\n",
    "print(\"\\nThen in your browser, open: http://localhost:6006\")"
   ]
  },
  {
   "cell_type": "code",
   "execution_count": null,
   "metadata": {},
   "outputs": [],
   "source": [
    "## Train model and Evaluate on Dev data\n",
    "\n",
    "# Training params, just used in this cell for the input_fn-s\n",
    "train_params = dict(batch_size=32, total_epochs=10, eval_every=1) # start with 2 epochs rather than 20; eval_every=1 (was 2)\n",
    "assert(train_params['total_epochs'] % train_params['eval_every'] == 0)\n",
    "\n",
    "# Construct and train the model, saving checkpoints to the directory above.\n",
    "# Input function for training set batches\n",
    "# Do 'eval_every' epochs at once, followed by evaluating on the dev set.\n",
    "# NOTE: use patch_numpy_io.numpy_input_fn instead of tf.estimator.inputs.numpy_input_fn\n",
    "train_input_fn = patched_numpy_io.numpy_input_fn(\n",
    "                    x={\"ids\": train_x, \"ns\": train_ns}, y=train_y,\n",
    "                    batch_size=train_params['batch_size'], \n",
    "                    num_epochs=train_params['eval_every'], shuffle=True, seed=42\n",
    "                 )\n",
    "\n",
    "# Input function for dev set batches. As above, but:\n",
    "# - Don't randomize order\n",
    "# - Iterate exactly once (one epoch)\n",
    "dev_input_fn = tf.estimator.inputs.numpy_input_fn(\n",
    "                    x={\"ids\": dev_x, \"ns\": dev_ns}, y=dev_y,\n",
    "                    batch_size=128, num_epochs=1, shuffle=False\n",
    "                )\n",
    "\n",
    "for _ in range(train_params['total_epochs'] // train_params['eval_every']):\n",
    "    # Train for a few epochs, then evaluate on dev\n",
    "    model.train(input_fn=train_input_fn)\n",
    "    eval_metrics = model.evaluate(input_fn=dev_input_fn, name=\"dev\")"
   ]
  },
  {
   "cell_type": "code",
   "execution_count": null,
   "metadata": {},
   "outputs": [],
   "source": [
    "## Evaluate model on (ISOT) Test data\n",
    "\n",
    "test_input_fn = tf.estimator.inputs.numpy_input_fn(\n",
    "                    x={\"ids\": test_x, \"ns\": test_ns}, y=test_y,\n",
    "                    batch_size=128, num_epochs=1, shuffle=False\n",
    "                )\n",
    "\n",
    "eval_metrics = model.evaluate(input_fn=test_input_fn, name=\"test\")\n",
    "\n",
    "print(\"Accuracy on test set: {:.02%}\".format(eval_metrics['accuracy']))\n",
    "eval_metrics"
   ]
  },
  {
   "cell_type": "code",
   "execution_count": null,
   "metadata": {},
   "outputs": [],
   "source": [
    "## We can also evaluate the old-fashioned way, by calling model.predict(...) and working with the predicted labels directly:\n",
    "\n",
    "from sklearn.metrics import accuracy_score\n",
    "predictions = list(model.predict(test_input_fn))  # list of dicts\n",
    "y_pred = [p['max'] for p in predictions]\n",
    "acc = accuracy_score(y_pred, test_y)\n",
    "print(\"Accuracy on test set: {:.02%}\".format(acc))"
   ]
  },
  {
   "cell_type": "markdown",
   "metadata": {},
   "source": [
    "##### Accuracy on the ISOT test set is higher for Neural BOW model compared to baseline NB model,  98% vs. 95%.    (Note that we achieve the same accuracy with Neural BOW on the ISOT set regardless of whether we use 50 or 300 for the embedding dimension.  "
   ]
  },
  {
   "cell_type": "code",
   "execution_count": null,
   "metadata": {},
   "outputs": [],
   "source": []
  },
  {
   "cell_type": "markdown",
   "metadata": {},
   "source": [
    "#### Create padded LIAR data and apply prediction function to LIAR data."
   ]
  },
  {
   "cell_type": "code",
   "execution_count": null,
   "metadata": {},
   "outputs": [],
   "source": [
    "## LIAR data padding\n",
    "\n",
    "all_liar_ids=[]\n",
    "for i, tokens in enumerate(liar_title_tokans):  # here, tokens are the words in a single sentence\n",
    "    sent_ids = vocab.words_to_ids(tokens)\n",
    "    all_liar_ids.append(sent_ids)\n",
    "print(all_liar_ids[:5])\n",
    "\n",
    "max_len = 40   # Retain this setting, since it fits the ISOT \"title\" length distribution quite well.\n",
    "liar_x, liar_ns = utils.pad_np_array(all_liar_ids, max_len=max_len)\n",
    "print()\n",
    "print(liar_x[:2])\n",
    "print()\n",
    "print(liar_ns[:2])\n",
    "\n",
    "liar_y = liar_labels\n",
    "print(liar_y[:2])"
   ]
  },
  {
   "cell_type": "code",
   "execution_count": null,
   "metadata": {},
   "outputs": [],
   "source": [
    "## Evaluate model on LIAR data\n",
    "\n",
    "test_input_fn_liar = tf.estimator.inputs.numpy_input_fn(\n",
    "                    x={\"ids\": liar_x, \"ns\": liar_ns}, y=liar_y,\n",
    "                    batch_size=128, num_epochs=1, shuffle=False\n",
    "                )\n",
    "\n",
    "eval_metrics = model.evaluate(input_fn=test_input_fn_liar, name=\"test\")\n",
    "\n",
    "print(\"Accuracy on LIAR set: {:.02%}\".format(eval_metrics['accuracy']))\n",
    "eval_metrics"
   ]
  },
  {
   "cell_type": "markdown",
   "metadata": {},
   "source": [
    "##### Prediction accuracy on LIAR data is poor, and slightly worse relative to the baseline MB model, 52% vs. 53%.    "
   ]
  },
  {
   "cell_type": "code",
   "execution_count": null,
   "metadata": {},
   "outputs": [],
   "source": []
  },
  {
   "cell_type": "code",
   "execution_count": null,
   "metadata": {},
   "outputs": [],
   "source": []
  },
  {
   "cell_type": "code",
   "execution_count": null,
   "metadata": {},
   "outputs": [],
   "source": []
  }
 ],
 "metadata": {
  "kernelspec": {
   "display_name": "Python 3",
   "language": "python",
   "name": "python3"
  },
  "language_info": {
   "codemirror_mode": {
    "name": "ipython",
    "version": 3
   },
   "file_extension": ".py",
   "mimetype": "text/x-python",
   "name": "python",
   "nbconvert_exporter": "python",
   "pygments_lexer": "ipython3",
   "version": "3.6.6"
  }
 },
 "nbformat": 4,
 "nbformat_minor": 2
}
