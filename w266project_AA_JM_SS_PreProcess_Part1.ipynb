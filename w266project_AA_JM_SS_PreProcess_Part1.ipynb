{
 "cells": [
  {
   "cell_type": "markdown",
   "metadata": {},
   "source": [
    "# LIAR DETECTION GROUP PROJECT\n",
    "\n",
    "## PreProcess Notebook Part 1\n",
    "\n",
    "Notebook loads all the data. Easier to add datasets later if needed.\n",
    "\n",
    "Run the cell below to import packages."
   ]
  },
  {
   "cell_type": "code",
   "execution_count": 1,
   "metadata": {},
   "outputs": [],
   "source": [
    "from __future__ import absolute_import\n",
    "from __future__ import print_function\n",
    "from __future__ import division\n",
    "\n",
    "import json, os, re, shutil, sys, time\n",
    "from importlib import reload\n",
    "import collections, itertools\n",
    "import unittest\n",
    "from IPython.display import display, HTML\n",
    "from sklearn.utils import shuffle\n",
    "# NLTK for NLP utils and corpora\n",
    "#import nltk\n",
    "\n",
    "# NumPy and TensorFlow\n",
    "import numpy as np\n",
    "import pandas as pd\n",
    "#import tensorflow as tf\n",
    "\n",
    "# Helper libraries\n",
    "from w266_common import utils, vocabulary, tf_embed_viz\n",
    "import timeit  #For timing"
   ]
  },
  {
   "cell_type": "markdown",
   "metadata": {},
   "source": [
    "### Load data\n",
    "Loading the \"Fake News\" dataset from the Information security and object technology (ISOT) Research lab at the University of Victoria School of Engineering.\n",
    "\n",
    "The ISOT Fake News Dataset is a compilation of several thousands fake news and truthful articles, obtained from different legitimate news sites and sites flagged as unreliable by politifact.com."
   ]
  },
  {
   "cell_type": "code",
   "execution_count": 2,
   "metadata": {},
   "outputs": [],
   "source": [
    "def get_data(filename, sep=',', header=0, names = None):\n",
    "    '''Read CSV file into a pandas dataframe'''\n",
    "      \n",
    "    filepath = DATAPATH + filename\n",
    "    return pd.read_csv(filepath, header=header, sep=sep, quotechar='\"')"
   ]
  },
  {
   "cell_type": "code",
   "execution_count": 2,
   "metadata": {
    "scrolled": true
   },
   "outputs": [
    {
     "data": {
      "text/html": [
       "<div>\n",
       "<style scoped>\n",
       "    .dataframe tbody tr th:only-of-type {\n",
       "        vertical-align: middle;\n",
       "    }\n",
       "\n",
       "    .dataframe tbody tr th {\n",
       "        vertical-align: top;\n",
       "    }\n",
       "\n",
       "    .dataframe thead th {\n",
       "        text-align: right;\n",
       "    }\n",
       "</style>\n",
       "<table border=\"1\" class=\"dataframe\">\n",
       "  <thead>\n",
       "    <tr style=\"text-align: right;\">\n",
       "      <th></th>\n",
       "      <th>title</th>\n",
       "      <th>text</th>\n",
       "      <th>subject</th>\n",
       "      <th>date</th>\n",
       "      <th>target</th>\n",
       "    </tr>\n",
       "  </thead>\n",
       "  <tbody>\n",
       "    <tr>\n",
       "      <th>count</th>\n",
       "      <td>44898</td>\n",
       "      <td>44898</td>\n",
       "      <td>44898</td>\n",
       "      <td>44898</td>\n",
       "      <td>44898</td>\n",
       "    </tr>\n",
       "    <tr>\n",
       "      <th>unique</th>\n",
       "      <td>38729</td>\n",
       "      <td>38646</td>\n",
       "      <td>8</td>\n",
       "      <td>2397</td>\n",
       "      <td>2</td>\n",
       "    </tr>\n",
       "    <tr>\n",
       "      <th>top</th>\n",
       "      <td>Factbox: Trump fills top jobs for his administ...</td>\n",
       "      <td></td>\n",
       "      <td>politicsNews</td>\n",
       "      <td>December 20, 2017</td>\n",
       "      <td>0</td>\n",
       "    </tr>\n",
       "    <tr>\n",
       "      <th>freq</th>\n",
       "      <td>14</td>\n",
       "      <td>627</td>\n",
       "      <td>11272</td>\n",
       "      <td>182</td>\n",
       "      <td>23481</td>\n",
       "    </tr>\n",
       "  </tbody>\n",
       "</table>\n",
       "</div>"
      ],
      "text/plain": [
       "                                                    title   text  \\\n",
       "count                                               44898  44898   \n",
       "unique                                              38729  38646   \n",
       "top     Factbox: Trump fills top jobs for his administ...          \n",
       "freq                                                   14    627   \n",
       "\n",
       "             subject                date target  \n",
       "count          44898               44898  44898  \n",
       "unique             8                2397      2  \n",
       "top     politicsNews  December 20, 2017       0  \n",
       "freq           11272                 182  23481  "
      ]
     },
     "execution_count": 2,
     "metadata": {},
     "output_type": "execute_result"
    }
   ],
   "source": [
    "# define each downloaded file\n",
    "FAKE_FILENAME = 'Fake.csv'\n",
    "TRUE_FILENAME = 'True.csv'\n",
    "\n",
    "# define the downloaded file path \n",
    "DATAPATH = './datasets/ISOT_FakeNews/'\n",
    "\n",
    "\n",
    "\n",
    "\n",
    "fake_data = get_data(FAKE_FILENAME)\n",
    "true_data = get_data(TRUE_FILENAME)\n",
    "\n",
    "\n",
    "\n",
    "# add a label column to the data with the target values\n",
    "fake_data.loc[:,'target'] = '0'\n",
    "true_data['target'] = '1'\n",
    "\n",
    "#append the datasets and shuffle them\n",
    "all_data = true_data.append(fake_data, ignore_index=True)\n",
    "all_data = all_data.sample(frac=1).reset_index(drop=True)\n",
    "\n",
    "all_data.describe()\n",
    "\n"
   ]
  },
  {
   "cell_type": "markdown",
   "metadata": {},
   "source": [
    "### Cleanup\n",
    "Check for NA values.\n",
    "\n",
    "May not want the dataset to contain the 'subject' since all the true news data comes from \"Reuters\""
   ]
  },
  {
   "cell_type": "code",
   "execution_count": 3,
   "metadata": {},
   "outputs": [
    {
     "data": {
      "text/plain": [
       "title      0\n",
       "text       0\n",
       "subject    0\n",
       "date       0\n",
       "target     0\n",
       "dtype: int64"
      ]
     },
     "execution_count": 3,
     "metadata": {},
     "output_type": "execute_result"
    }
   ],
   "source": [
    "all_data.isna().sum()"
   ]
  },
  {
   "cell_type": "code",
   "execution_count": 4,
   "metadata": {},
   "outputs": [
    {
     "name": "stdout",
     "output_type": "stream",
     "text": [
      "<class 'pandas.core.frame.DataFrame'>\n",
      "RangeIndex: 44898 entries, 0 to 44897\n",
      "Data columns (total 5 columns):\n",
      "title      44898 non-null object\n",
      "text       44898 non-null object\n",
      "subject    44898 non-null object\n",
      "date       44898 non-null object\n",
      "target     44898 non-null object\n",
      "dtypes: object(5)\n",
      "memory usage: 151.9 MB\n"
     ]
    }
   ],
   "source": [
    "all_data.info(memory_usage='deep', verbose=True)"
   ]
  },
  {
   "cell_type": "code",
   "execution_count": 28,
   "metadata": {},
   "outputs": [
    {
     "data": {
      "text/plain": [
       "(44898, 5)"
      ]
     },
     "execution_count": 28,
     "metadata": {},
     "output_type": "execute_result"
    }
   ],
   "source": [
    "all_data.shape"
   ]
  },
  {
   "cell_type": "markdown",
   "metadata": {},
   "source": [
    "### Pickle!"
   ]
  },
  {
   "cell_type": "code",
   "execution_count": 30,
   "metadata": {},
   "outputs": [],
   "source": [
    "#Write to a pkl file and beginning a new notebook\n",
    "all_data.to_pickle('parsed_data/df_alldata1.pkl')"
   ]
  },
  {
   "cell_type": "markdown",
   "metadata": {},
   "source": [
    "### Load the LIAR data\n",
    "Loading the liar dataset.\n",
    "\n",
    "LIAR dataset was collected using the BS Detector tool"
   ]
  },
  {
   "cell_type": "code",
   "execution_count": 35,
   "metadata": {},
   "outputs": [
    {
     "name": "stdout",
     "output_type": "stream",
     "text": [
      "LIAR training dataset:  (10240, 14)\n",
      "LIAR test dataset:  (1267, 14)\n",
      "LIAR dev dataset:  (1284, 14)\n"
     ]
    }
   ],
   "source": [
    "# define each downloaded file\n",
    "LIAR_TEST_FILENAME = 'test.tsv'\n",
    "LIAR_TRAIN_FILENAME = 'train.tsv'\n",
    "LIAR_DEV_FILENAME = 'valid.tsv'\n",
    "\n",
    "# define the downloaded file path \n",
    "DATAPATH = './datasets/LIAR/'\n",
    "\n",
    "## title =statement, target = politifact rating\n",
    "\n",
    "h_names= ['id', 'target', 'title', 'subject', 'speaker', 'speaker_job_title', 'state', 'party',\n",
    "          'barely_true_count', 'false_count', 'half_true_count', 'mostly_true_count','pantsonfire_count',\n",
    "          'context']\n",
    "\n",
    "liar_test_data = get_data(LIAR_TEST_FILENAME, sep ='\\t', header =None)\n",
    "liar_train_data = get_data(LIAR_TRAIN_FILENAME, '\\t', header =None)\n",
    "liar_dev_data = get_data(LIAR_DEV_FILENAME, '\\t', header =None)\n",
    "print(\"LIAR training dataset: \", liar_train_data.shape)\n",
    "print(\"LIAR test dataset: \", liar_test_data.shape)\n",
    "print(\"LIAR dev dataset: \", liar_dev_data.shape)\n",
    "\n",
    "liar_test_data.columns = h_names\n",
    "liar_train_data.columns = h_names\n",
    "liar_dev_data.columns = h_names\n",
    "# ## add a label column to the data with the target values\n",
    "# #fake_data.loc[:,'target'] = '0'\n",
    "# #true_data['target'] = '1'\n",
    "\n",
    "# #append the datasets and shuffle them\n",
    "# all_data = true_data.append(fake_data, ignore_index=True)\n",
    "# all_data = all_data.sample(frac=1).reset_index(drop=True)"
   ]
  },
  {
   "cell_type": "code",
   "execution_count": 36,
   "metadata": {},
   "outputs": [
    {
     "name": "stdout",
     "output_type": "stream",
     "text": [
      "Complete LIAR dataset:  (12791, 14)\n"
     ]
    }
   ],
   "source": [
    "# combine all the liar data\n",
    "liar_data = liar_train_data.append(liar_test_data, ignore_index =True)\n",
    "liar_data = liar_data.append(liar_dev_data, ignore_index =True)\n",
    "liar_data = liar_data.sample(frac=1).reset_index(drop=True)\n",
    "print(\"Complete LIAR dataset: \",liar_data.shape)"
   ]
  },
  {
   "cell_type": "code",
   "execution_count": 37,
   "metadata": {
    "scrolled": true
   },
   "outputs": [
    {
     "data": {
      "text/html": [
       "<div>\n",
       "<style scoped>\n",
       "    .dataframe tbody tr th:only-of-type {\n",
       "        vertical-align: middle;\n",
       "    }\n",
       "\n",
       "    .dataframe tbody tr th {\n",
       "        vertical-align: top;\n",
       "    }\n",
       "\n",
       "    .dataframe thead th {\n",
       "        text-align: right;\n",
       "    }\n",
       "</style>\n",
       "<table border=\"1\" class=\"dataframe\">\n",
       "  <thead>\n",
       "    <tr style=\"text-align: right;\">\n",
       "      <th></th>\n",
       "      <th>id</th>\n",
       "      <th>target</th>\n",
       "      <th>title</th>\n",
       "      <th>subject</th>\n",
       "      <th>speaker</th>\n",
       "      <th>speaker_job_title</th>\n",
       "      <th>state</th>\n",
       "      <th>party</th>\n",
       "      <th>barely_true_count</th>\n",
       "      <th>false_count</th>\n",
       "      <th>half_true_count</th>\n",
       "      <th>mostly_true_count</th>\n",
       "      <th>pantsonfire_count</th>\n",
       "      <th>context</th>\n",
       "    </tr>\n",
       "  </thead>\n",
       "  <tbody>\n",
       "    <tr>\n",
       "      <th>0</th>\n",
       "      <td>7222.json</td>\n",
       "      <td>mostly-true</td>\n",
       "      <td>Says 31 percent of Texas physicians accept all...</td>\n",
       "      <td>medicaid</td>\n",
       "      <td>texas-medical-association</td>\n",
       "      <td>NaN</td>\n",
       "      <td>NaN</td>\n",
       "      <td>none</td>\n",
       "      <td>0.0</td>\n",
       "      <td>0.0</td>\n",
       "      <td>0.0</td>\n",
       "      <td>1.0</td>\n",
       "      <td>0.0</td>\n",
       "      <td>a Twitter post.</td>\n",
       "    </tr>\n",
       "    <tr>\n",
       "      <th>1</th>\n",
       "      <td>1651.json</td>\n",
       "      <td>half-true</td>\n",
       "      <td>''Both Democrats and Republicans are advocatin...</td>\n",
       "      <td>bipartisanship,education</td>\n",
       "      <td>foundation-floridas-future</td>\n",
       "      <td>NaN</td>\n",
       "      <td>Florida</td>\n",
       "      <td>republican</td>\n",
       "      <td>0.0</td>\n",
       "      <td>0.0</td>\n",
       "      <td>1.0</td>\n",
       "      <td>0.0</td>\n",
       "      <td>0.0</td>\n",
       "      <td>a press release</td>\n",
       "    </tr>\n",
       "    <tr>\n",
       "      <th>2</th>\n",
       "      <td>4804.json</td>\n",
       "      <td>true</td>\n",
       "      <td>A Republican-led softening of firearms trainin...</td>\n",
       "      <td>guns,market-regulation</td>\n",
       "      <td>donna-seidel</td>\n",
       "      <td>State Assembly, District 85</td>\n",
       "      <td>Wisconsin</td>\n",
       "      <td>democrat</td>\n",
       "      <td>0.0</td>\n",
       "      <td>1.0</td>\n",
       "      <td>0.0</td>\n",
       "      <td>0.0</td>\n",
       "      <td>0.0</td>\n",
       "      <td>a press release</td>\n",
       "    </tr>\n",
       "    <tr>\n",
       "      <th>3</th>\n",
       "      <td>12415.json</td>\n",
       "      <td>pants-fire</td>\n",
       "      <td>The first tweet was sent from Austin.</td>\n",
       "      <td>city-government,corporations,history,technology</td>\n",
       "      <td>steve-adler</td>\n",
       "      <td>Mayor of Austin</td>\n",
       "      <td>Texas</td>\n",
       "      <td>democrat</td>\n",
       "      <td>1.0</td>\n",
       "      <td>1.0</td>\n",
       "      <td>1.0</td>\n",
       "      <td>2.0</td>\n",
       "      <td>1.0</td>\n",
       "      <td>a panel discussion in Austin</td>\n",
       "    </tr>\n",
       "    <tr>\n",
       "      <th>4</th>\n",
       "      <td>10217.json</td>\n",
       "      <td>half-true</td>\n",
       "      <td>Georgia has the countrys second highest number...</td>\n",
       "      <td>crime,taxes</td>\n",
       "      <td>johnny-isakson</td>\n",
       "      <td>U.S. Senator</td>\n",
       "      <td>Georgia</td>\n",
       "      <td>republican</td>\n",
       "      <td>2.0</td>\n",
       "      <td>3.0</td>\n",
       "      <td>3.0</td>\n",
       "      <td>2.0</td>\n",
       "      <td>0.0</td>\n",
       "      <td>press release</td>\n",
       "    </tr>\n",
       "  </tbody>\n",
       "</table>\n",
       "</div>"
      ],
      "text/plain": [
       "           id       target                                              title  \\\n",
       "0   7222.json  mostly-true  Says 31 percent of Texas physicians accept all...   \n",
       "1   1651.json    half-true  ''Both Democrats and Republicans are advocatin...   \n",
       "2   4804.json         true  A Republican-led softening of firearms trainin...   \n",
       "3  12415.json   pants-fire              The first tweet was sent from Austin.   \n",
       "4  10217.json    half-true  Georgia has the countrys second highest number...   \n",
       "\n",
       "                                           subject  \\\n",
       "0                                         medicaid   \n",
       "1                         bipartisanship,education   \n",
       "2                           guns,market-regulation   \n",
       "3  city-government,corporations,history,technology   \n",
       "4                                      crime,taxes   \n",
       "\n",
       "                      speaker            speaker_job_title      state  \\\n",
       "0   texas-medical-association                          NaN        NaN   \n",
       "1  foundation-floridas-future                          NaN    Florida   \n",
       "2                donna-seidel  State Assembly, District 85  Wisconsin   \n",
       "3                 steve-adler              Mayor of Austin      Texas   \n",
       "4              johnny-isakson                 U.S. Senator    Georgia   \n",
       "\n",
       "        party  barely_true_count  false_count  half_true_count  \\\n",
       "0        none                0.0          0.0              0.0   \n",
       "1  republican                0.0          0.0              1.0   \n",
       "2    democrat                0.0          1.0              0.0   \n",
       "3    democrat                1.0          1.0              1.0   \n",
       "4  republican                2.0          3.0              3.0   \n",
       "\n",
       "   mostly_true_count  pantsonfire_count                       context  \n",
       "0                1.0                0.0               a Twitter post.  \n",
       "1                0.0                0.0               a press release  \n",
       "2                0.0                0.0               a press release  \n",
       "3                2.0                1.0  a panel discussion in Austin  \n",
       "4                2.0                0.0                 press release  "
      ]
     },
     "execution_count": 37,
     "metadata": {},
     "output_type": "execute_result"
    }
   ],
   "source": [
    "liar_data.head(5)"
   ]
  },
  {
   "cell_type": "code",
   "execution_count": 40,
   "metadata": {},
   "outputs": [
    {
     "data": {
      "text/plain": [
       "id                      0\n",
       "target                  0\n",
       "title                   0\n",
       "subject                 2\n",
       "speaker                 2\n",
       "speaker_job_title    3567\n",
       "state                2749\n",
       "party                   2\n",
       "barely_true_count       2\n",
       "false_count             2\n",
       "half_true_count         2\n",
       "mostly_true_count       2\n",
       "pantsonfire_count       2\n",
       "context               131\n",
       "dtype: int64"
      ]
     },
     "execution_count": 40,
     "metadata": {},
     "output_type": "execute_result"
    }
   ],
   "source": [
    "## cleanup the null title values\n",
    "liar_data.isna().sum()"
   ]
  },
  {
   "cell_type": "markdown",
   "metadata": {},
   "source": [
    "### Pickle"
   ]
  },
  {
   "cell_type": "code",
   "execution_count": 38,
   "metadata": {},
   "outputs": [],
   "source": [
    "#Write to a pkl file and beginning a new notebook\n",
    "liar_data.to_pickle('parsed_data/df_liardata1.pkl')"
   ]
  },
  {
   "cell_type": "markdown",
   "metadata": {},
   "source": [
    "### Politifact data"
   ]
  },
  {
   "cell_type": "code",
   "execution_count": 94,
   "metadata": {},
   "outputs": [
    {
     "name": "stdout",
     "output_type": "stream",
     "text": [
      "Politifact dataset:  (10467, 5)\n"
     ]
    }
   ],
   "source": [
    "POLITIFACT_FILENAME = 'full_politifact_data.csv'\n",
    "#POLITIFACT_FILENAME = 'dev.csv'\n",
    "\n",
    "# define the downloaded file path \n",
    "DATAPATH = './datasets/Politifact/politifact_data/'\n",
    "\n",
    "### 5 =pants on fire, 4= false, 3 = mostly false, 2 = half true, 1 = mostly true, 0 = true\n",
    "\n",
    "## title =statement, target = politifact rating\n",
    "h_names= ['id','speaker', 'target', 'title', 'explanation','URL']\n",
    "\n",
    "politifact_data = pd.read_csv(DATAPATH+POLITIFACT_FILENAME, sep='\\t', quotechar='\"',usecols=[0,1,2,3,4])\n",
    "\n",
    "print(\"Politifact dataset: \", politifact_data.shape)\n",
    "#politifact_data.columns = h_names"
   ]
  },
  {
   "cell_type": "code",
   "execution_count": 88,
   "metadata": {},
   "outputs": [
    {
     "data": {
      "text/html": [
       "<div>\n",
       "<style scoped>\n",
       "    .dataframe tbody tr th:only-of-type {\n",
       "        vertical-align: middle;\n",
       "    }\n",
       "\n",
       "    .dataframe tbody tr th {\n",
       "        vertical-align: top;\n",
       "    }\n",
       "\n",
       "    .dataframe thead th {\n",
       "        text-align: right;\n",
       "    }\n",
       "</style>\n",
       "<table border=\"1\" class=\"dataframe\">\n",
       "  <thead>\n",
       "    <tr style=\"text-align: right;\">\n",
       "      <th></th>\n",
       "      <th>Speaker</th>\n",
       "      <th>Truth-Rating</th>\n",
       "      <th>Statement</th>\n",
       "      <th>PolitiFact explanations</th>\n",
       "      <th>URL</th>\n",
       "    </tr>\n",
       "  </thead>\n",
       "  <tbody>\n",
       "    <tr>\n",
       "      <th>0</th>\n",
       "      <td>Paul LePage</td>\n",
       "      <td>5</td>\n",
       "      <td>About 47 percent of able-bodied people in the ...</td>\n",
       "      <td>Only if you support jobs for babies</td>\n",
       "      <td>/truth-o-meter/statements/2013/oct/23/paul-lep...</td>\n",
       "    </tr>\n",
       "    <tr>\n",
       "      <th>1</th>\n",
       "      <td>Battleground Texas</td>\n",
       "      <td>0</td>\n",
       "      <td>Says Dan Patrick has \"called immigration into ...</td>\n",
       "      <td>'Stop the illlegal invasion!'</td>\n",
       "      <td>/texas/statements/2014/jun/20/battleground-tex...</td>\n",
       "    </tr>\n",
       "    <tr>\n",
       "      <th>2</th>\n",
       "      <td>Battleground Texas</td>\n",
       "      <td>1</td>\n",
       "      <td>In 2008, \"only 54 percent of Latinos in Texas ...</td>\n",
       "      <td>Dividing estimates into estimates</td>\n",
       "      <td>/texas/statements/2013/mar/22/battleground-tex...</td>\n",
       "    </tr>\n",
       "    <tr>\n",
       "      <th>3</th>\n",
       "      <td>Suzanne Somers</td>\n",
       "      <td>0</td>\n",
       "      <td>Even after Obamacare is fully implemented, the...</td>\n",
       "      <td>Some ridiculed her column, but this claim is c...</td>\n",
       "      <td>/punditfact/statements/2013/nov/01/suzanne-som...</td>\n",
       "    </tr>\n",
       "    <tr>\n",
       "      <th>4</th>\n",
       "      <td>Jamie Oliver</td>\n",
       "      <td>2</td>\n",
       "      <td>McDonald's in England only sells organic milk ...</td>\n",
       "      <td>Policies differ under Golden Arches across the...</td>\n",
       "      <td>/truth-o-meter/statements/2010/aug/31/jamie-ol...</td>\n",
       "    </tr>\n",
       "    <tr>\n",
       "      <th>5</th>\n",
       "      <td>John Barge</td>\n",
       "      <td>1</td>\n",
       "      <td>We have about six school districts that are in...</td>\n",
       "      <td>Tight budgets tightening school days</td>\n",
       "      <td>/georgia/statements/2013/oct/29/john-barge/bar...</td>\n",
       "    </tr>\n",
       "    <tr>\n",
       "      <th>6</th>\n",
       "      <td>Brian Schweitzer</td>\n",
       "      <td>5</td>\n",
       "      <td>McCain's energy plan is a \"single-answer propo...</td>\n",
       "      <td>McCain energy plan not just more drilling</td>\n",
       "      <td>/truth-o-meter/statements/2008/aug/27/brian-sc...</td>\n",
       "    </tr>\n",
       "    <tr>\n",
       "      <th>7</th>\n",
       "      <td>Gail  Collins</td>\n",
       "      <td>0</td>\n",
       "      <td>Says Ron Paul doesnt believe in marriage licen...</td>\n",
       "      <td>Let people define marriage, Paul says</td>\n",
       "      <td>/texas/statements/2011/dec/27/gail-collins/col...</td>\n",
       "    </tr>\n",
       "    <tr>\n",
       "      <th>8</th>\n",
       "      <td>Gail  Collins</td>\n",
       "      <td>1</td>\n",
       "      <td>Louie Gohmert of Texas \"compared the current g...</td>\n",
       "      <td>Likened moments</td>\n",
       "      <td>/texas/statements/2013/oct/10/gail-collins/lou...</td>\n",
       "    </tr>\n",
       "    <tr>\n",
       "      <th>9</th>\n",
       "      <td>Gail  Collins</td>\n",
       "      <td>1</td>\n",
       "      <td>Mitt Romney \"drove to Canada with the family d...</td>\n",
       "      <td>In a carrier with a windshield, plus he got hi...</td>\n",
       "      <td>/truth-o-meter/statements/2011/sep/13/gail-col...</td>\n",
       "    </tr>\n",
       "  </tbody>\n",
       "</table>\n",
       "</div>"
      ],
      "text/plain": [
       "              Speaker  Truth-Rating  \\\n",
       "0         Paul LePage             5   \n",
       "1  Battleground Texas             0   \n",
       "2  Battleground Texas             1   \n",
       "3      Suzanne Somers             0   \n",
       "4        Jamie Oliver             2   \n",
       "5          John Barge             1   \n",
       "6    Brian Schweitzer             5   \n",
       "7       Gail  Collins             0   \n",
       "8       Gail  Collins             1   \n",
       "9       Gail  Collins             1   \n",
       "\n",
       "                                           Statement  \\\n",
       "0  About 47 percent of able-bodied people in the ...   \n",
       "1  Says Dan Patrick has \"called immigration into ...   \n",
       "2  In 2008, \"only 54 percent of Latinos in Texas ...   \n",
       "3  Even after Obamacare is fully implemented, the...   \n",
       "4  McDonald's in England only sells organic milk ...   \n",
       "5  We have about six school districts that are in...   \n",
       "6  McCain's energy plan is a \"single-answer propo...   \n",
       "7  Says Ron Paul doesnt believe in marriage licen...   \n",
       "8  Louie Gohmert of Texas \"compared the current g...   \n",
       "9  Mitt Romney \"drove to Canada with the family d...   \n",
       "\n",
       "                             PolitiFact explanations  \\\n",
       "0                Only if you support jobs for babies   \n",
       "1                      'Stop the illlegal invasion!'   \n",
       "2                  Dividing estimates into estimates   \n",
       "3  Some ridiculed her column, but this claim is c...   \n",
       "4  Policies differ under Golden Arches across the...   \n",
       "5               Tight budgets tightening school days   \n",
       "6          McCain energy plan not just more drilling   \n",
       "7              Let people define marriage, Paul says   \n",
       "8                                    Likened moments   \n",
       "9  In a carrier with a windshield, plus he got hi...   \n",
       "\n",
       "                                                 URL  \n",
       "0  /truth-o-meter/statements/2013/oct/23/paul-lep...  \n",
       "1  /texas/statements/2014/jun/20/battleground-tex...  \n",
       "2  /texas/statements/2013/mar/22/battleground-tex...  \n",
       "3  /punditfact/statements/2013/nov/01/suzanne-som...  \n",
       "4  /truth-o-meter/statements/2010/aug/31/jamie-ol...  \n",
       "5  /georgia/statements/2013/oct/29/john-barge/bar...  \n",
       "6  /truth-o-meter/statements/2008/aug/27/brian-sc...  \n",
       "7  /texas/statements/2011/dec/27/gail-collins/col...  \n",
       "8  /texas/statements/2013/oct/10/gail-collins/lou...  \n",
       "9  /truth-o-meter/statements/2011/sep/13/gail-col...  "
      ]
     },
     "execution_count": 88,
     "metadata": {},
     "output_type": "execute_result"
    }
   ],
   "source": [
    "politifact_data.head(10)"
   ]
  },
  {
   "cell_type": "code",
   "execution_count": 91,
   "metadata": {},
   "outputs": [
    {
     "data": {
      "text/plain": [
       "Speaker                    0\n",
       "Truth-Rating               0\n",
       "Statement                  0\n",
       "PolitiFact explanations    0\n",
       "URL                        0\n",
       "dtype: int64"
      ]
     },
     "execution_count": 91,
     "metadata": {},
     "output_type": "execute_result"
    }
   ],
   "source": [
    "## cleanup the null title values\n",
    "politifact_data.isna().sum()"
   ]
  },
  {
   "cell_type": "markdown",
   "metadata": {},
   "source": [
    "### Pickle"
   ]
  },
  {
   "cell_type": "code",
   "execution_count": 92,
   "metadata": {},
   "outputs": [],
   "source": [
    "#Write to a pkl file and beginning a new notebook\n",
    "politifact_data.to_pickle('parsed_data/df_politifact1.pkl')"
   ]
  },
  {
   "cell_type": "markdown",
   "metadata": {},
   "source": [
    "### Hannah Rashkin's News Data"
   ]
  },
  {
   "cell_type": "code",
   "execution_count": 165,
   "metadata": {},
   "outputs": [
    {
     "name": "stdout",
     "output_type": "stream",
     "text": [
      "NEWS test dataset:  (3000, 2)\n",
      "NEWS full training dataset:  (48854, 2)\n"
     ]
    }
   ],
   "source": [
    "NEWS_TEST_FILENAME = 'balancedtest.csv'\n",
    "##NEWS_TRAIN_FILENAME = 'xtrain.txt'\n",
    "##NEWS_DEV_FILENAME = 'xdev.txt'\n",
    "NEWS_FULL_FILENAME = 'fulltrain.csv' ## contains xtrain and xdev\n",
    "\n",
    "# define the downloaded file path \n",
    "DATAPATH = './datasets/Rashkin/newsfiles/'\n",
    "\n",
    "## 1 = Satire , 2 = Hoax, 3 = Propoganda, 4 = Trusted\n",
    "\n",
    "h_names= ['target', 'text']\n",
    "\n",
    "news_test_data = get_data(NEWS_TEST_FILENAME, sep =',', header =None)\n",
    "##news_train_data = get_data(NEWS_TRAIN_FILENAME, '\\t', header =None)\n",
    "##news_dev_data = get_data(NEWS_DEV_FILENAME, '\\t', header =None)\n",
    "news_full_data = get_data(NEWS_FULL_FILENAME, ',', header =None)\n",
    "##print(\"NEWS training dataset: \", news_train_data.shape)\n",
    "print(\"NEWS test dataset: \", news_test_data.shape)\n",
    "##print(\"NEWS dev dataset: \", news_dev_data.shape)\n",
    "print(\"NEWS full training dataset: \", news_full_data.shape)\n",
    "\n",
    "news_test_data.columns = h_names\n",
    "##news_train_data.columns = h_names\n",
    "##news_dev_data.columns = h_names\n",
    "news_full_data.columns = h_names"
   ]
  },
  {
   "cell_type": "code",
   "execution_count": 166,
   "metadata": {},
   "outputs": [
    {
     "data": {
      "text/html": [
       "<div>\n",
       "<style scoped>\n",
       "    .dataframe tbody tr th:only-of-type {\n",
       "        vertical-align: middle;\n",
       "    }\n",
       "\n",
       "    .dataframe tbody tr th {\n",
       "        vertical-align: top;\n",
       "    }\n",
       "\n",
       "    .dataframe thead th {\n",
       "        text-align: right;\n",
       "    }\n",
       "</style>\n",
       "<table border=\"1\" class=\"dataframe\">\n",
       "  <thead>\n",
       "    <tr style=\"text-align: right;\">\n",
       "      <th></th>\n",
       "      <th>target</th>\n",
       "      <th>text</th>\n",
       "    </tr>\n",
       "  </thead>\n",
       "  <tbody>\n",
       "    <tr>\n",
       "      <th>48849</th>\n",
       "      <td>4</td>\n",
       "      <td>The ruling Kuomintang (KMT) has claimed owners...</td>\n",
       "    </tr>\n",
       "    <tr>\n",
       "      <th>48850</th>\n",
       "      <td>4</td>\n",
       "      <td>The Taipei city government has encouraged the ...</td>\n",
       "    </tr>\n",
       "    <tr>\n",
       "      <th>48851</th>\n",
       "      <td>4</td>\n",
       "      <td>President Ma Ying-jeou said Friday that a park...</td>\n",
       "    </tr>\n",
       "    <tr>\n",
       "      <th>48852</th>\n",
       "      <td>4</td>\n",
       "      <td>The families of the four people who were kille...</td>\n",
       "    </tr>\n",
       "    <tr>\n",
       "      <th>48853</th>\n",
       "      <td>4</td>\n",
       "      <td>The Ministry of Finance will make public on Sa...</td>\n",
       "    </tr>\n",
       "  </tbody>\n",
       "</table>\n",
       "</div>"
      ],
      "text/plain": [
       "       target                                               text\n",
       "48849       4  The ruling Kuomintang (KMT) has claimed owners...\n",
       "48850       4  The Taipei city government has encouraged the ...\n",
       "48851       4  President Ma Ying-jeou said Friday that a park...\n",
       "48852       4  The families of the four people who were kille...\n",
       "48853       4  The Ministry of Finance will make public on Sa..."
      ]
     },
     "execution_count": 166,
     "metadata": {},
     "output_type": "execute_result"
    }
   ],
   "source": [
    "news_full_data.tail(5)\n",
    "\n",
    "### test data and full training data can be combined\n",
    "\n",
    "#news_full_data[news_full_data['text']==news_test_data.loc[1,'text']]"
   ]
  },
  {
   "cell_type": "code",
   "execution_count": 167,
   "metadata": {},
   "outputs": [
    {
     "name": "stdout",
     "output_type": "stream",
     "text": [
      "NEWS full dataset:  (51854, 2)\n"
     ]
    }
   ],
   "source": [
    "### combine all news data\n",
    "news_data = news_full_data.append(news_test_data, ignore_index =True)\n",
    "news_data = news_data.sample(frac=1).reset_index(drop=True)\n",
    "print(\"NEWS full dataset: \", news_data.shape)"
   ]
  },
  {
   "cell_type": "markdown",
   "metadata": {},
   "source": [
    "### Pickle"
   ]
  },
  {
   "cell_type": "code",
   "execution_count": 168,
   "metadata": {},
   "outputs": [],
   "source": [
    "#Write to a pkl file and beginning a new notebook\n",
    "news_data.to_pickle('parsed_data/df_newsdata1.pkl')"
   ]
  },
  {
   "cell_type": "code",
   "execution_count": 169,
   "metadata": {},
   "outputs": [
    {
     "name": "stdout",
     "output_type": "stream",
     "text": [
      "total 5.1G\r\n",
      "drwxrwxr-x 2 w266project w266project 4.0K Nov 18 01:10 .\r\n",
      "drwxrwxr-x 9 w266project w266project 4.0K Nov 18 01:10 ..\r\n",
      "-rw-rw-r-- 1 w266project w266project  528 Nov 17 02:04 GloVe_Unknown_50.npy\r\n",
      "-rw-rw-r-- 1 w266project w266project  95M Nov 12 06:53 df_alldata1.pkl\r\n",
      "-rw-rw-r-- 1 w266project w266project 368M Nov 17 02:01 df_alldata2.pkl\r\n",
      "-rw-rw-r-- 1 w266project w266project 4.5G Nov 17 05:19 df_alldata_embed.pkl\r\n",
      "-rw-rw-r-- 1 w266project w266project 2.9M Nov 17 09:19 df_liardata1.pkl\r\n",
      "-rw-rw-r-- 1 w266project w266project 161M Nov 18 01:10 df_newsdata1.pkl\r\n",
      "-rw-rw-r-- 1 w266project w266project 2.7M Nov 17 23:42 df_politifact1.pkl\r\n",
      "-rw-rw-r-- 1 w266project w266project 2.3K Nov 17 04:28 pdata.h5\r\n",
      "-rw-rw-r-- 1 w266project w266project  34M Nov 17 02:04 vocab.pkl\r\n"
     ]
    }
   ],
   "source": [
    "! ls ./parsed_data -lah"
   ]
  }
 ],
 "metadata": {
  "kernelspec": {
   "display_name": "Python 3",
   "language": "python",
   "name": "python3"
  },
  "language_info": {
   "codemirror_mode": {
    "name": "ipython",
    "version": 3
   },
   "file_extension": ".py",
   "mimetype": "text/x-python",
   "name": "python",
   "nbconvert_exporter": "python",
   "pygments_lexer": "ipython3",
   "version": "3.6.6"
  }
 },
 "nbformat": 4,
 "nbformat_minor": 2
}
