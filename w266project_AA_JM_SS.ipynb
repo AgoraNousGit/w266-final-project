{
 "cells": [
  {
   "cell_type": "markdown",
   "metadata": {},
   "source": [
    "# LIAR DETECTION GROUP PROJECT\n",
    "\n",
    "Run the cell below to import packages."
   ]
  },
  {
   "cell_type": "code",
   "execution_count": 7,
   "metadata": {},
   "outputs": [],
   "source": [
    "from __future__ import absolute_import\n",
    "from __future__ import print_function\n",
    "from __future__ import division\n",
    "\n",
    "import json, os, re, shutil, sys, time\n",
    "from importlib import reload\n",
    "import collections, itertools\n",
    "import unittest\n",
    "from IPython.display import display, HTML\n",
    "from sklearn.utils import shuffle\n",
    "# NLTK for NLP utils and corpora\n",
    "import nltk\n",
    "\n",
    "# NumPy and TensorFlow\n",
    "import numpy as np\n",
    "import pandas as pd\n",
    "import tensorflow as tf\n",
    "\n",
    "# Helper libraries\n",
    "from w266_common import utils, vocabulary, tf_embed_viz\n",
    "\n"
   ]
  },
  {
   "cell_type": "markdown",
   "metadata": {},
   "source": [
    "### Load data\n",
    "Loading the \"Fake News\" dataset from the Information security and object technology (ISOT) Research lab at the University of Victoria School of Engineering.\n",
    "\n",
    "The ISOT Fake News Dataset is a compilation of several thousands fake news and truthful articles, obtained from different legitimate news sites and sites flagged as unreliable by politifact.com."
   ]
  },
  {
   "cell_type": "code",
   "execution_count": 57,
   "metadata": {
    "scrolled": true
   },
   "outputs": [
    {
     "data": {
      "text/html": [
       "<div>\n",
       "<style scoped>\n",
       "    .dataframe tbody tr th:only-of-type {\n",
       "        vertical-align: middle;\n",
       "    }\n",
       "\n",
       "    .dataframe tbody tr th {\n",
       "        vertical-align: top;\n",
       "    }\n",
       "\n",
       "    .dataframe thead th {\n",
       "        text-align: right;\n",
       "    }\n",
       "</style>\n",
       "<table border=\"1\" class=\"dataframe\">\n",
       "  <thead>\n",
       "    <tr style=\"text-align: right;\">\n",
       "      <th></th>\n",
       "      <th>title</th>\n",
       "      <th>text</th>\n",
       "      <th>subject</th>\n",
       "      <th>date</th>\n",
       "      <th>target</th>\n",
       "    </tr>\n",
       "  </thead>\n",
       "  <tbody>\n",
       "    <tr>\n",
       "      <th>count</th>\n",
       "      <td>44898</td>\n",
       "      <td>44898</td>\n",
       "      <td>44898</td>\n",
       "      <td>44898</td>\n",
       "      <td>44898</td>\n",
       "    </tr>\n",
       "    <tr>\n",
       "      <th>unique</th>\n",
       "      <td>38729</td>\n",
       "      <td>38646</td>\n",
       "      <td>8</td>\n",
       "      <td>2397</td>\n",
       "      <td>2</td>\n",
       "    </tr>\n",
       "    <tr>\n",
       "      <th>top</th>\n",
       "      <td>Factbox: Trump fills top jobs for his administ...</td>\n",
       "      <td></td>\n",
       "      <td>politicsNews</td>\n",
       "      <td>December 20, 2017</td>\n",
       "      <td>0</td>\n",
       "    </tr>\n",
       "    <tr>\n",
       "      <th>freq</th>\n",
       "      <td>14</td>\n",
       "      <td>627</td>\n",
       "      <td>11272</td>\n",
       "      <td>182</td>\n",
       "      <td>23481</td>\n",
       "    </tr>\n",
       "  </tbody>\n",
       "</table>\n",
       "</div>"
      ],
      "text/plain": [
       "                                                    title   text  \\\n",
       "count                                               44898  44898   \n",
       "unique                                              38729  38646   \n",
       "top     Factbox: Trump fills top jobs for his administ...          \n",
       "freq                                                   14    627   \n",
       "\n",
       "             subject                date target  \n",
       "count          44898               44898  44898  \n",
       "unique             8                2397      2  \n",
       "top     politicsNews  December 20, 2017       0  \n",
       "freq           11272                 182  23481  "
      ]
     },
     "execution_count": 57,
     "metadata": {},
     "output_type": "execute_result"
    }
   ],
   "source": [
    "# define each downloaded file\n",
    "FAKE_FILENAME = 'fake.csv'\n",
    "TRUE_FILENAME = 'true.csv'\n",
    "\n",
    "# define the downloaded file path \n",
    "DATAPATH = './datasets/ISOT FakeNews/'\n",
    "\n",
    "def get_data(filename):\n",
    "    '''Read CSV file into a pandas dataframe'''\n",
    "      \n",
    "    filepath = DATAPATH + filename\n",
    "    return pd.read_csv(filepath, header=0, sep=',', quotechar='\"')\n",
    "\n",
    "\n",
    "fake_data = get_data(FAKE_FILENAME)\n",
    "true_data = get_data(TRUE_FILENAME)\n",
    "\n",
    "\n",
    "\n",
    "# add a label column to the data\n",
    "fake_data.loc[:,'target'] = '0'\n",
    "true_data['target'] = '1'\n",
    "\n",
    "#append the datasets and shuffle them\n",
    "all_data = true_data.append(fake_data, ignore_index=True)\n",
    "all_data = all_data.sample(frac=1).reset_index(drop=True)\n",
    "\n",
    "all_data.describe()"
   ]
  },
  {
   "cell_type": "markdown",
   "metadata": {},
   "source": [
    "### Cleanup\n",
    "Check for NA values.\n",
    "\n",
    "May not want the dataset to contain the 'subject' since all the true news data comes from \"Reuters\""
   ]
  },
  {
   "cell_type": "code",
   "execution_count": 71,
   "metadata": {},
   "outputs": [
    {
     "data": {
      "text/plain": [
       "title      0\n",
       "text       0\n",
       "subject    0\n",
       "date       0\n",
       "target     0\n",
       "dtype: int64"
      ]
     },
     "execution_count": 71,
     "metadata": {},
     "output_type": "execute_result"
    }
   ],
   "source": [
    "all_data.isna().sum()"
   ]
  },
  {
   "cell_type": "code",
   "execution_count": 72,
   "metadata": {},
   "outputs": [
    {
     "name": "stdout",
     "output_type": "stream",
     "text": [
      "<class 'pandas.core.frame.DataFrame'>\n",
      "RangeIndex: 44898 entries, 0 to 44897\n",
      "Data columns (total 5 columns):\n",
      "title      44898 non-null object\n",
      "text       44898 non-null object\n",
      "subject    44898 non-null object\n",
      "date       44898 non-null object\n",
      "target     44898 non-null object\n",
      "dtypes: object(5)\n",
      "memory usage: 151.8 MB\n"
     ]
    }
   ],
   "source": [
    "all_data.info(memory_usage='deep', verbose=True)"
   ]
  },
  {
   "cell_type": "markdown",
   "metadata": {},
   "source": [
    "### Tokenize and Canonicalize Text\n",
    "\n",
    "Need to work on Tokenize and Canonicalizing text. Words like \"Obama's\" need to be corrected. Do we need to mark of sentences within a text? Might want to use some regex code from camron."
   ]
  },
  {
   "cell_type": "code",
   "execution_count": 101,
   "metadata": {},
   "outputs": [
    {
     "name": "stdout",
     "output_type": "stream",
     "text": [
      "Vocabulary: 20 types\n",
      "20 words\n",
      "wordset:  ['<s>', '</s>', '<unk>', 'i', 'my', 'name', 'is', 'abhishek.', 'have', 'no', 'clue.', 'learning', 'the', 'back-portion', 'that', 'never', 'cared', 'for.', 'obamas', 'nephew.']\n"
     ]
    }
   ],
   "source": [
    "def allcaps(text):\n",
    "    text = text.group()\n",
    "    return text.lower() + \" <allcaps>\"\n",
    "\n",
    "def build_vocab(corpus, V=None, **kw):\n",
    "    if isinstance(corpus, list):\n",
    "        token_feed = (utils.canonicalize_word(w) for w in corpus)\n",
    "        vocab = vocabulary.Vocabulary(token_feed, size=V, **kw)\n",
    "    print(\"Vocabulary: {:,} types\".format(vocab.size))\n",
    "    return vocab\n",
    "\n",
    "teststring = 'My name is Abhishek. I have no clue. Learning the back-portion that I never cared for. Obama''s nephew.'\n",
    "#utils.canonicalize_word(teststring.split())\n",
    "vocab=build_vocab(teststring.split())\n",
    "print(\"{:,} words\".format(vocab.size))\n",
    "print(\"wordset: \",vocab.ordered_words())\n",
    "\n"
   ]
  },
  {
   "cell_type": "markdown",
   "metadata": {},
   "source": [
    "### Train and Test Split"
   ]
  },
  {
   "cell_type": "code",
   "execution_count": 69,
   "metadata": {},
   "outputs": [
    {
     "name": "stdout",
     "output_type": "stream",
     "text": [
      "training data:  (35918, 5)\n",
      "dev data:  (8980, 5)\n"
     ]
    }
   ],
   "source": [
    "#train and dev split\n",
    "train_dev_split = 0.8\n",
    "\n",
    "train_data = all_data[:int(len(all_data)*train_dev_split)].reset_index(drop=True)\n",
    "dev_data = all_data[int(len(all_data)*train_dev_split):].reset_index(drop=True)\n",
    "\n",
    "print('training data: ',train_data.shape)\n",
    "print('dev data: ',dev_data.shape)"
   ]
  },
  {
   "cell_type": "code",
   "execution_count": 70,
   "metadata": {},
   "outputs": [
    {
     "data": {
      "text/html": [
       "<div>\n",
       "<style scoped>\n",
       "    .dataframe tbody tr th:only-of-type {\n",
       "        vertical-align: middle;\n",
       "    }\n",
       "\n",
       "    .dataframe tbody tr th {\n",
       "        vertical-align: top;\n",
       "    }\n",
       "\n",
       "    .dataframe thead th {\n",
       "        text-align: right;\n",
       "    }\n",
       "</style>\n",
       "<table border=\"1\" class=\"dataframe\">\n",
       "  <thead>\n",
       "    <tr style=\"text-align: right;\">\n",
       "      <th></th>\n",
       "      <th>title</th>\n",
       "      <th>text</th>\n",
       "      <th>subject</th>\n",
       "      <th>date</th>\n",
       "      <th>target</th>\n",
       "    </tr>\n",
       "  </thead>\n",
       "  <tbody>\n",
       "    <tr>\n",
       "      <th>0</th>\n",
       "      <td>U.S. Senate support for Trump education nomine...</td>\n",
       "      <td>WASHINGTON (Reuters) - Public refusals on Wedn...</td>\n",
       "      <td>politicsNews</td>\n",
       "      <td>February 1, 2017</td>\n",
       "      <td>1</td>\n",
       "    </tr>\n",
       "    <tr>\n",
       "      <th>1</th>\n",
       "      <td>Trump's Indian-American fan spreads the word b...</td>\n",
       "      <td>NEW DELHI (Reuters) - Donald Trump sympathizes...</td>\n",
       "      <td>politicsNews</td>\n",
       "      <td>October 7, 2016</td>\n",
       "      <td>1</td>\n",
       "    </tr>\n",
       "    <tr>\n",
       "      <th>2</th>\n",
       "      <td>ERIC HOLDER DOUBLES DOWN with Second Threat Ag...</td>\n",
       "      <td>Eric Holder just doubled down on threats this ...</td>\n",
       "      <td>politics</td>\n",
       "      <td>Dec 17, 2017</td>\n",
       "      <td>0</td>\n",
       "    </tr>\n",
       "    <tr>\n",
       "      <th>3</th>\n",
       "      <td>U.S. plans to update self-driving guidelines i...</td>\n",
       "      <td>DETROIT/WASHINGTON (Reuters) - President Donal...</td>\n",
       "      <td>politicsNews</td>\n",
       "      <td>June 5, 2017</td>\n",
       "      <td>1</td>\n",
       "    </tr>\n",
       "    <tr>\n",
       "      <th>4</th>\n",
       "      <td>Leaks of Manchester bomb probe 'reprehensible,...</td>\n",
       "      <td>LONDON (Reuters) - The most senior U.S. diplom...</td>\n",
       "      <td>politicsNews</td>\n",
       "      <td>May 25, 2017</td>\n",
       "      <td>1</td>\n",
       "    </tr>\n",
       "  </tbody>\n",
       "</table>\n",
       "</div>"
      ],
      "text/plain": [
       "                                               title  \\\n",
       "0  U.S. Senate support for Trump education nomine...   \n",
       "1  Trump's Indian-American fan spreads the word b...   \n",
       "2  ERIC HOLDER DOUBLES DOWN with Second Threat Ag...   \n",
       "3  U.S. plans to update self-driving guidelines i...   \n",
       "4  Leaks of Manchester bomb probe 'reprehensible,...   \n",
       "\n",
       "                                                text       subject  \\\n",
       "0  WASHINGTON (Reuters) - Public refusals on Wedn...  politicsNews   \n",
       "1  NEW DELHI (Reuters) - Donald Trump sympathizes...  politicsNews   \n",
       "2  Eric Holder just doubled down on threats this ...      politics   \n",
       "3  DETROIT/WASHINGTON (Reuters) - President Donal...  politicsNews   \n",
       "4  LONDON (Reuters) - The most senior U.S. diplom...  politicsNews   \n",
       "\n",
       "                date target  \n",
       "0  February 1, 2017       1  \n",
       "1   October 7, 2016       1  \n",
       "2       Dec 17, 2017      0  \n",
       "3      June 5, 2017       1  \n",
       "4      May 25, 2017       1  "
      ]
     },
     "execution_count": 70,
     "metadata": {},
     "output_type": "execute_result"
    }
   ],
   "source": [
    "train_data.head(5)"
   ]
  },
  {
   "cell_type": "code",
   "execution_count": null,
   "metadata": {},
   "outputs": [],
   "source": []
  },
  {
   "cell_type": "markdown",
   "metadata": {},
   "source": [
    "### Sandbox\n",
    "\n",
    "delete eveything below when notebook complete"
   ]
  },
  {
   "cell_type": "code",
   "execution_count": 76,
   "metadata": {},
   "outputs": [
    {
     "data": {
      "text/plain": [
       "'NEW DELHI (Reuters) - Donald Trump sympathizes with India in its recent escalation of tensions with Pakistan and supports skilled immigration, an adviser said on Friday, portraying the U.S. presidential hopeful as a friend of India and Indian Americans. Trump, a real estate billionaire, has earned a reputation of hostility toward minorities with proposals such as “extreme vetting” of potential immigrants and building a wall along the Mexican border to stop illegal immigration.  The Republican nominee has proposed a ban on immigration from countries where vetting would be difficult, such as nations faced with Islamic militancy. Some Indian officials worry the United States could become more isolationist under Trump, leaving allies like New Delhi without the support it has enjoyed under President Barack Obama against China’s growing regional influence.      Shalabh Kumar, a Chicago-based businessman of Indian origin tasked by the Trump campaign with reaching out to Asian-Americans, said India and the Indian-American community had nothing to fear from a Trump presidency.    There may be only 4 million Indian Americans but the potential to develop the relationship with their country of origin, a land of 1.3 billion, was huge, Kumar told a news conference at a hotel in New Delhi that drew a curious audience of about 30 journalists and several TV cameras. “Our overarching goal is for the 21st century to be an Indian-American century - instead of a Sino-American century,” said Kumar, wearing a dark suit and gold-rimmed pilot glasses, his white hair swept back.     “Mr Trump is a businessman - he has no bone in his body, not a drop of blood that is anti-immigrant,” Kumar said. “He wants to have legal, skills-based immigration.” The Punjabi-born businessman, who emigrated in 1969 and was converted to the Republican cause by Ronald Reagan, also said Trump’s determination to keep Islamic militants out of the United States played well with his community.  Around four in five Indians profess the Hindu faith, while 14 percent are Muslims. Hindu nationalist groups, including many Indian Americans, have applauded Trump’s anti-Muslim comments. “There is a war declared on the free world by Islamic terrorists,” Kumar said. “We are very happy that India under Prime Minister Narendra Modi has taken a very firm stand.” Kumar said the Republican Hindu Coalition, a group that he set up last year, would hold a cultural event and charity fundraiser in New Jersey on Oct. 15 at which Trump will deliver a keynote address. Half of the gate receipts would go to victims of terrorism, in particular Hindu refugees from Kashmir and Bangladesh. '"
      ]
     },
     "execution_count": 76,
     "metadata": {},
     "output_type": "execute_result"
    }
   ],
   "source": [
    "#df = pd.DataFrame([[1, 2], [3, 4]], columns=list('AB'))\n",
    "#df2 = pd.DataFrame([[5, 6], [7, 8]], columns=list('AB'))\n",
    "\n",
    "\n",
    "\n",
    "all_data.iloc[1]['text']\n",
    "\n"
   ]
  },
  {
   "cell_type": "code",
   "execution_count": null,
   "metadata": {},
   "outputs": [],
   "source": []
  }
 ],
 "metadata": {
  "kernelspec": {
   "display_name": "Python 3",
   "language": "python",
   "name": "python3"
  },
  "language_info": {
   "codemirror_mode": {
    "name": "ipython",
    "version": 3
   },
   "file_extension": ".py",
   "mimetype": "text/x-python",
   "name": "python",
   "nbconvert_exporter": "python",
   "pygments_lexer": "ipython3",
   "version": "3.6.6"
  }
 },
 "nbformat": 4,
 "nbformat_minor": 2
}
